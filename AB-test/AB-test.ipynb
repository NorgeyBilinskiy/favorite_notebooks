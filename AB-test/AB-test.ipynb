{
  "nbformat": 4,
  "nbformat_minor": 0,
  "metadata": {
    "colab": {
      "provenance": [],
      "toc_visible": true
    },
    "kernelspec": {
      "name": "python3",
      "display_name": "Python 3"
    },
    "language_info": {
      "name": "python"
    }
  },
  "cells": [
    {
      "cell_type": "markdown",
      "source": [
        "## Импорт библиотек"
      ],
      "metadata": {
        "id": "LgLM2ARndQ-I"
      }
    },
    {
      "cell_type": "code",
      "execution_count": null,
      "metadata": {
        "id": "8jnCGo0hdDHT"
      },
      "outputs": [],
      "source": [
        "import pandas as pd\n",
        "import matplotlib.pyplot as plt\n",
        "import seaborn as sns\n",
        "from scipy import stats\n",
        "from scipy.stats import shapiro, normaltest"
      ]
    },
    {
      "cell_type": "markdown",
      "source": [
        "## Импорт данных"
      ],
      "metadata": {
        "id": "rPyxQNXYdjRp"
      }
    },
    {
      "cell_type": "code",
      "source": [
        "# Импортируем таблицу, где данные 5 компаний синхронизированы по дням\n",
        "data = pd.read_excel('/content/drive/My Drive/Geekbrains/АВ тесты/DZ_8.xlsx', sheet_name='AB Test Results')\n",
        "print(data.shape)\n",
        "data.head(5)"
      ],
      "metadata": {
        "colab": {
          "base_uri": "https://localhost:8080/"
        },
        "id": "KtzbLgmJdiYw",
        "outputId": "e60b0fa3-262e-4a9d-c00f-df339027b0a3"
      },
      "execution_count": null,
      "outputs": [
        {
          "output_type": "stream",
          "name": "stdout",
          "text": [
            "(10000, 3)\n"
          ]
        },
        {
          "output_type": "stream",
          "name": "stderr",
          "text": [
            "/usr/local/lib/python3.10/dist-packages/openpyxl/worksheet/_reader.py:329: UserWarning: Unknown extension is not supported and will be removed\n",
            "  warn(msg)\n"
          ]
        },
        {
          "output_type": "execute_result",
          "data": {
            "text/plain": [
              "   USER_ID VARIANT_NAME  REVENUE\n",
              "0      737      variant      0.0\n",
              "1     2423      control      0.0\n",
              "2     9411      control      0.0\n",
              "3     7311      control      0.0\n",
              "4     6174      variant      0.0"
            ],
            "text/html": [
              "\n",
              "  <div id=\"df-0f1aed0f-27e9-40f7-a9a5-cd247a3c133b\" class=\"colab-df-container\">\n",
              "    <div>\n",
              "<style scoped>\n",
              "    .dataframe tbody tr th:only-of-type {\n",
              "        vertical-align: middle;\n",
              "    }\n",
              "\n",
              "    .dataframe tbody tr th {\n",
              "        vertical-align: top;\n",
              "    }\n",
              "\n",
              "    .dataframe thead th {\n",
              "        text-align: right;\n",
              "    }\n",
              "</style>\n",
              "<table border=\"1\" class=\"dataframe\">\n",
              "  <thead>\n",
              "    <tr style=\"text-align: right;\">\n",
              "      <th></th>\n",
              "      <th>USER_ID</th>\n",
              "      <th>VARIANT_NAME</th>\n",
              "      <th>REVENUE</th>\n",
              "    </tr>\n",
              "  </thead>\n",
              "  <tbody>\n",
              "    <tr>\n",
              "      <th>0</th>\n",
              "      <td>737</td>\n",
              "      <td>variant</td>\n",
              "      <td>0.0</td>\n",
              "    </tr>\n",
              "    <tr>\n",
              "      <th>1</th>\n",
              "      <td>2423</td>\n",
              "      <td>control</td>\n",
              "      <td>0.0</td>\n",
              "    </tr>\n",
              "    <tr>\n",
              "      <th>2</th>\n",
              "      <td>9411</td>\n",
              "      <td>control</td>\n",
              "      <td>0.0</td>\n",
              "    </tr>\n",
              "    <tr>\n",
              "      <th>3</th>\n",
              "      <td>7311</td>\n",
              "      <td>control</td>\n",
              "      <td>0.0</td>\n",
              "    </tr>\n",
              "    <tr>\n",
              "      <th>4</th>\n",
              "      <td>6174</td>\n",
              "      <td>variant</td>\n",
              "      <td>0.0</td>\n",
              "    </tr>\n",
              "  </tbody>\n",
              "</table>\n",
              "</div>\n",
              "    <div class=\"colab-df-buttons\">\n",
              "\n",
              "  <div class=\"colab-df-container\">\n",
              "    <button class=\"colab-df-convert\" onclick=\"convertToInteractive('df-0f1aed0f-27e9-40f7-a9a5-cd247a3c133b')\"\n",
              "            title=\"Convert this dataframe to an interactive table.\"\n",
              "            style=\"display:none;\">\n",
              "\n",
              "  <svg xmlns=\"http://www.w3.org/2000/svg\" height=\"24px\" viewBox=\"0 -960 960 960\">\n",
              "    <path d=\"M120-120v-720h720v720H120Zm60-500h600v-160H180v160Zm220 220h160v-160H400v160Zm0 220h160v-160H400v160ZM180-400h160v-160H180v160Zm440 0h160v-160H620v160ZM180-180h160v-160H180v160Zm440 0h160v-160H620v160Z\"/>\n",
              "  </svg>\n",
              "    </button>\n",
              "\n",
              "  <style>\n",
              "    .colab-df-container {\n",
              "      display:flex;\n",
              "      gap: 12px;\n",
              "    }\n",
              "\n",
              "    .colab-df-convert {\n",
              "      background-color: #E8F0FE;\n",
              "      border: none;\n",
              "      border-radius: 50%;\n",
              "      cursor: pointer;\n",
              "      display: none;\n",
              "      fill: #1967D2;\n",
              "      height: 32px;\n",
              "      padding: 0 0 0 0;\n",
              "      width: 32px;\n",
              "    }\n",
              "\n",
              "    .colab-df-convert:hover {\n",
              "      background-color: #E2EBFA;\n",
              "      box-shadow: 0px 1px 2px rgba(60, 64, 67, 0.3), 0px 1px 3px 1px rgba(60, 64, 67, 0.15);\n",
              "      fill: #174EA6;\n",
              "    }\n",
              "\n",
              "    .colab-df-buttons div {\n",
              "      margin-bottom: 4px;\n",
              "    }\n",
              "\n",
              "    [theme=dark] .colab-df-convert {\n",
              "      background-color: #3B4455;\n",
              "      fill: #D2E3FC;\n",
              "    }\n",
              "\n",
              "    [theme=dark] .colab-df-convert:hover {\n",
              "      background-color: #434B5C;\n",
              "      box-shadow: 0px 1px 3px 1px rgba(0, 0, 0, 0.15);\n",
              "      filter: drop-shadow(0px 1px 2px rgba(0, 0, 0, 0.3));\n",
              "      fill: #FFFFFF;\n",
              "    }\n",
              "  </style>\n",
              "\n",
              "    <script>\n",
              "      const buttonEl =\n",
              "        document.querySelector('#df-0f1aed0f-27e9-40f7-a9a5-cd247a3c133b button.colab-df-convert');\n",
              "      buttonEl.style.display =\n",
              "        google.colab.kernel.accessAllowed ? 'block' : 'none';\n",
              "\n",
              "      async function convertToInteractive(key) {\n",
              "        const element = document.querySelector('#df-0f1aed0f-27e9-40f7-a9a5-cd247a3c133b');\n",
              "        const dataTable =\n",
              "          await google.colab.kernel.invokeFunction('convertToInteractive',\n",
              "                                                    [key], {});\n",
              "        if (!dataTable) return;\n",
              "\n",
              "        const docLinkHtml = 'Like what you see? Visit the ' +\n",
              "          '<a target=\"_blank\" href=https://colab.research.google.com/notebooks/data_table.ipynb>data table notebook</a>'\n",
              "          + ' to learn more about interactive tables.';\n",
              "        element.innerHTML = '';\n",
              "        dataTable['output_type'] = 'display_data';\n",
              "        await google.colab.output.renderOutput(dataTable, element);\n",
              "        const docLink = document.createElement('div');\n",
              "        docLink.innerHTML = docLinkHtml;\n",
              "        element.appendChild(docLink);\n",
              "      }\n",
              "    </script>\n",
              "  </div>\n",
              "\n",
              "\n",
              "<div id=\"df-d5a402c2-4b70-474b-a077-7bfa569e0e1a\">\n",
              "  <button class=\"colab-df-quickchart\" onclick=\"quickchart('df-d5a402c2-4b70-474b-a077-7bfa569e0e1a')\"\n",
              "            title=\"Suggest charts.\"\n",
              "            style=\"display:none;\">\n",
              "\n",
              "<svg xmlns=\"http://www.w3.org/2000/svg\" height=\"24px\"viewBox=\"0 0 24 24\"\n",
              "     width=\"24px\">\n",
              "    <g>\n",
              "        <path d=\"M19 3H5c-1.1 0-2 .9-2 2v14c0 1.1.9 2 2 2h14c1.1 0 2-.9 2-2V5c0-1.1-.9-2-2-2zM9 17H7v-7h2v7zm4 0h-2V7h2v10zm4 0h-2v-4h2v4z\"/>\n",
              "    </g>\n",
              "</svg>\n",
              "  </button>\n",
              "\n",
              "<style>\n",
              "  .colab-df-quickchart {\n",
              "      --bg-color: #E8F0FE;\n",
              "      --fill-color: #1967D2;\n",
              "      --hover-bg-color: #E2EBFA;\n",
              "      --hover-fill-color: #174EA6;\n",
              "      --disabled-fill-color: #AAA;\n",
              "      --disabled-bg-color: #DDD;\n",
              "  }\n",
              "\n",
              "  [theme=dark] .colab-df-quickchart {\n",
              "      --bg-color: #3B4455;\n",
              "      --fill-color: #D2E3FC;\n",
              "      --hover-bg-color: #434B5C;\n",
              "      --hover-fill-color: #FFFFFF;\n",
              "      --disabled-bg-color: #3B4455;\n",
              "      --disabled-fill-color: #666;\n",
              "  }\n",
              "\n",
              "  .colab-df-quickchart {\n",
              "    background-color: var(--bg-color);\n",
              "    border: none;\n",
              "    border-radius: 50%;\n",
              "    cursor: pointer;\n",
              "    display: none;\n",
              "    fill: var(--fill-color);\n",
              "    height: 32px;\n",
              "    padding: 0;\n",
              "    width: 32px;\n",
              "  }\n",
              "\n",
              "  .colab-df-quickchart:hover {\n",
              "    background-color: var(--hover-bg-color);\n",
              "    box-shadow: 0 1px 2px rgba(60, 64, 67, 0.3), 0 1px 3px 1px rgba(60, 64, 67, 0.15);\n",
              "    fill: var(--button-hover-fill-color);\n",
              "  }\n",
              "\n",
              "  .colab-df-quickchart-complete:disabled,\n",
              "  .colab-df-quickchart-complete:disabled:hover {\n",
              "    background-color: var(--disabled-bg-color);\n",
              "    fill: var(--disabled-fill-color);\n",
              "    box-shadow: none;\n",
              "  }\n",
              "\n",
              "  .colab-df-spinner {\n",
              "    border: 2px solid var(--fill-color);\n",
              "    border-color: transparent;\n",
              "    border-bottom-color: var(--fill-color);\n",
              "    animation:\n",
              "      spin 1s steps(1) infinite;\n",
              "  }\n",
              "\n",
              "  @keyframes spin {\n",
              "    0% {\n",
              "      border-color: transparent;\n",
              "      border-bottom-color: var(--fill-color);\n",
              "      border-left-color: var(--fill-color);\n",
              "    }\n",
              "    20% {\n",
              "      border-color: transparent;\n",
              "      border-left-color: var(--fill-color);\n",
              "      border-top-color: var(--fill-color);\n",
              "    }\n",
              "    30% {\n",
              "      border-color: transparent;\n",
              "      border-left-color: var(--fill-color);\n",
              "      border-top-color: var(--fill-color);\n",
              "      border-right-color: var(--fill-color);\n",
              "    }\n",
              "    40% {\n",
              "      border-color: transparent;\n",
              "      border-right-color: var(--fill-color);\n",
              "      border-top-color: var(--fill-color);\n",
              "    }\n",
              "    60% {\n",
              "      border-color: transparent;\n",
              "      border-right-color: var(--fill-color);\n",
              "    }\n",
              "    80% {\n",
              "      border-color: transparent;\n",
              "      border-right-color: var(--fill-color);\n",
              "      border-bottom-color: var(--fill-color);\n",
              "    }\n",
              "    90% {\n",
              "      border-color: transparent;\n",
              "      border-bottom-color: var(--fill-color);\n",
              "    }\n",
              "  }\n",
              "</style>\n",
              "\n",
              "  <script>\n",
              "    async function quickchart(key) {\n",
              "      const quickchartButtonEl =\n",
              "        document.querySelector('#' + key + ' button');\n",
              "      quickchartButtonEl.disabled = true;  // To prevent multiple clicks.\n",
              "      quickchartButtonEl.classList.add('colab-df-spinner');\n",
              "      try {\n",
              "        const charts = await google.colab.kernel.invokeFunction(\n",
              "            'suggestCharts', [key], {});\n",
              "      } catch (error) {\n",
              "        console.error('Error during call to suggestCharts:', error);\n",
              "      }\n",
              "      quickchartButtonEl.classList.remove('colab-df-spinner');\n",
              "      quickchartButtonEl.classList.add('colab-df-quickchart-complete');\n",
              "    }\n",
              "    (() => {\n",
              "      let quickchartButtonEl =\n",
              "        document.querySelector('#df-d5a402c2-4b70-474b-a077-7bfa569e0e1a button');\n",
              "      quickchartButtonEl.style.display =\n",
              "        google.colab.kernel.accessAllowed ? 'block' : 'none';\n",
              "    })();\n",
              "  </script>\n",
              "</div>\n",
              "    </div>\n",
              "  </div>\n"
            ]
          },
          "metadata": {},
          "execution_count": 49
        }
      ]
    },
    {
      "cell_type": "code",
      "source": [
        "print(data.dtypes)\n",
        "data.tail(5)"
      ],
      "metadata": {
        "colab": {
          "base_uri": "https://localhost:8080/"
        },
        "id": "qhvTaqF3euiE",
        "outputId": "957777d4-a53e-4cb9-fcf8-af01247825fc"
      },
      "execution_count": null,
      "outputs": [
        {
          "output_type": "stream",
          "name": "stdout",
          "text": [
            "USER_ID           int64\n",
            "VARIANT_NAME     object\n",
            "REVENUE         float64\n",
            "dtype: object\n"
          ]
        },
        {
          "output_type": "execute_result",
          "data": {
            "text/plain": [
              "      USER_ID VARIANT_NAME  REVENUE\n",
              "9995     1981      control      0.0\n",
              "9996      502      variant      0.0\n",
              "9997     9214      variant      0.0\n",
              "9998     7741      control      0.0\n",
              "9999     9468      control      0.0"
            ],
            "text/html": [
              "\n",
              "  <div id=\"df-09d3a3d7-77a8-49ca-a52a-dd1f38a58494\" class=\"colab-df-container\">\n",
              "    <div>\n",
              "<style scoped>\n",
              "    .dataframe tbody tr th:only-of-type {\n",
              "        vertical-align: middle;\n",
              "    }\n",
              "\n",
              "    .dataframe tbody tr th {\n",
              "        vertical-align: top;\n",
              "    }\n",
              "\n",
              "    .dataframe thead th {\n",
              "        text-align: right;\n",
              "    }\n",
              "</style>\n",
              "<table border=\"1\" class=\"dataframe\">\n",
              "  <thead>\n",
              "    <tr style=\"text-align: right;\">\n",
              "      <th></th>\n",
              "      <th>USER_ID</th>\n",
              "      <th>VARIANT_NAME</th>\n",
              "      <th>REVENUE</th>\n",
              "    </tr>\n",
              "  </thead>\n",
              "  <tbody>\n",
              "    <tr>\n",
              "      <th>9995</th>\n",
              "      <td>1981</td>\n",
              "      <td>control</td>\n",
              "      <td>0.0</td>\n",
              "    </tr>\n",
              "    <tr>\n",
              "      <th>9996</th>\n",
              "      <td>502</td>\n",
              "      <td>variant</td>\n",
              "      <td>0.0</td>\n",
              "    </tr>\n",
              "    <tr>\n",
              "      <th>9997</th>\n",
              "      <td>9214</td>\n",
              "      <td>variant</td>\n",
              "      <td>0.0</td>\n",
              "    </tr>\n",
              "    <tr>\n",
              "      <th>9998</th>\n",
              "      <td>7741</td>\n",
              "      <td>control</td>\n",
              "      <td>0.0</td>\n",
              "    </tr>\n",
              "    <tr>\n",
              "      <th>9999</th>\n",
              "      <td>9468</td>\n",
              "      <td>control</td>\n",
              "      <td>0.0</td>\n",
              "    </tr>\n",
              "  </tbody>\n",
              "</table>\n",
              "</div>\n",
              "    <div class=\"colab-df-buttons\">\n",
              "\n",
              "  <div class=\"colab-df-container\">\n",
              "    <button class=\"colab-df-convert\" onclick=\"convertToInteractive('df-09d3a3d7-77a8-49ca-a52a-dd1f38a58494')\"\n",
              "            title=\"Convert this dataframe to an interactive table.\"\n",
              "            style=\"display:none;\">\n",
              "\n",
              "  <svg xmlns=\"http://www.w3.org/2000/svg\" height=\"24px\" viewBox=\"0 -960 960 960\">\n",
              "    <path d=\"M120-120v-720h720v720H120Zm60-500h600v-160H180v160Zm220 220h160v-160H400v160Zm0 220h160v-160H400v160ZM180-400h160v-160H180v160Zm440 0h160v-160H620v160ZM180-180h160v-160H180v160Zm440 0h160v-160H620v160Z\"/>\n",
              "  </svg>\n",
              "    </button>\n",
              "\n",
              "  <style>\n",
              "    .colab-df-container {\n",
              "      display:flex;\n",
              "      gap: 12px;\n",
              "    }\n",
              "\n",
              "    .colab-df-convert {\n",
              "      background-color: #E8F0FE;\n",
              "      border: none;\n",
              "      border-radius: 50%;\n",
              "      cursor: pointer;\n",
              "      display: none;\n",
              "      fill: #1967D2;\n",
              "      height: 32px;\n",
              "      padding: 0 0 0 0;\n",
              "      width: 32px;\n",
              "    }\n",
              "\n",
              "    .colab-df-convert:hover {\n",
              "      background-color: #E2EBFA;\n",
              "      box-shadow: 0px 1px 2px rgba(60, 64, 67, 0.3), 0px 1px 3px 1px rgba(60, 64, 67, 0.15);\n",
              "      fill: #174EA6;\n",
              "    }\n",
              "\n",
              "    .colab-df-buttons div {\n",
              "      margin-bottom: 4px;\n",
              "    }\n",
              "\n",
              "    [theme=dark] .colab-df-convert {\n",
              "      background-color: #3B4455;\n",
              "      fill: #D2E3FC;\n",
              "    }\n",
              "\n",
              "    [theme=dark] .colab-df-convert:hover {\n",
              "      background-color: #434B5C;\n",
              "      box-shadow: 0px 1px 3px 1px rgba(0, 0, 0, 0.15);\n",
              "      filter: drop-shadow(0px 1px 2px rgba(0, 0, 0, 0.3));\n",
              "      fill: #FFFFFF;\n",
              "    }\n",
              "  </style>\n",
              "\n",
              "    <script>\n",
              "      const buttonEl =\n",
              "        document.querySelector('#df-09d3a3d7-77a8-49ca-a52a-dd1f38a58494 button.colab-df-convert');\n",
              "      buttonEl.style.display =\n",
              "        google.colab.kernel.accessAllowed ? 'block' : 'none';\n",
              "\n",
              "      async function convertToInteractive(key) {\n",
              "        const element = document.querySelector('#df-09d3a3d7-77a8-49ca-a52a-dd1f38a58494');\n",
              "        const dataTable =\n",
              "          await google.colab.kernel.invokeFunction('convertToInteractive',\n",
              "                                                    [key], {});\n",
              "        if (!dataTable) return;\n",
              "\n",
              "        const docLinkHtml = 'Like what you see? Visit the ' +\n",
              "          '<a target=\"_blank\" href=https://colab.research.google.com/notebooks/data_table.ipynb>data table notebook</a>'\n",
              "          + ' to learn more about interactive tables.';\n",
              "        element.innerHTML = '';\n",
              "        dataTable['output_type'] = 'display_data';\n",
              "        await google.colab.output.renderOutput(dataTable, element);\n",
              "        const docLink = document.createElement('div');\n",
              "        docLink.innerHTML = docLinkHtml;\n",
              "        element.appendChild(docLink);\n",
              "      }\n",
              "    </script>\n",
              "  </div>\n",
              "\n",
              "\n",
              "<div id=\"df-3d5cad45-16c2-4719-9b2b-3e8ccd198fc4\">\n",
              "  <button class=\"colab-df-quickchart\" onclick=\"quickchart('df-3d5cad45-16c2-4719-9b2b-3e8ccd198fc4')\"\n",
              "            title=\"Suggest charts.\"\n",
              "            style=\"display:none;\">\n",
              "\n",
              "<svg xmlns=\"http://www.w3.org/2000/svg\" height=\"24px\"viewBox=\"0 0 24 24\"\n",
              "     width=\"24px\">\n",
              "    <g>\n",
              "        <path d=\"M19 3H5c-1.1 0-2 .9-2 2v14c0 1.1.9 2 2 2h14c1.1 0 2-.9 2-2V5c0-1.1-.9-2-2-2zM9 17H7v-7h2v7zm4 0h-2V7h2v10zm4 0h-2v-4h2v4z\"/>\n",
              "    </g>\n",
              "</svg>\n",
              "  </button>\n",
              "\n",
              "<style>\n",
              "  .colab-df-quickchart {\n",
              "      --bg-color: #E8F0FE;\n",
              "      --fill-color: #1967D2;\n",
              "      --hover-bg-color: #E2EBFA;\n",
              "      --hover-fill-color: #174EA6;\n",
              "      --disabled-fill-color: #AAA;\n",
              "      --disabled-bg-color: #DDD;\n",
              "  }\n",
              "\n",
              "  [theme=dark] .colab-df-quickchart {\n",
              "      --bg-color: #3B4455;\n",
              "      --fill-color: #D2E3FC;\n",
              "      --hover-bg-color: #434B5C;\n",
              "      --hover-fill-color: #FFFFFF;\n",
              "      --disabled-bg-color: #3B4455;\n",
              "      --disabled-fill-color: #666;\n",
              "  }\n",
              "\n",
              "  .colab-df-quickchart {\n",
              "    background-color: var(--bg-color);\n",
              "    border: none;\n",
              "    border-radius: 50%;\n",
              "    cursor: pointer;\n",
              "    display: none;\n",
              "    fill: var(--fill-color);\n",
              "    height: 32px;\n",
              "    padding: 0;\n",
              "    width: 32px;\n",
              "  }\n",
              "\n",
              "  .colab-df-quickchart:hover {\n",
              "    background-color: var(--hover-bg-color);\n",
              "    box-shadow: 0 1px 2px rgba(60, 64, 67, 0.3), 0 1px 3px 1px rgba(60, 64, 67, 0.15);\n",
              "    fill: var(--button-hover-fill-color);\n",
              "  }\n",
              "\n",
              "  .colab-df-quickchart-complete:disabled,\n",
              "  .colab-df-quickchart-complete:disabled:hover {\n",
              "    background-color: var(--disabled-bg-color);\n",
              "    fill: var(--disabled-fill-color);\n",
              "    box-shadow: none;\n",
              "  }\n",
              "\n",
              "  .colab-df-spinner {\n",
              "    border: 2px solid var(--fill-color);\n",
              "    border-color: transparent;\n",
              "    border-bottom-color: var(--fill-color);\n",
              "    animation:\n",
              "      spin 1s steps(1) infinite;\n",
              "  }\n",
              "\n",
              "  @keyframes spin {\n",
              "    0% {\n",
              "      border-color: transparent;\n",
              "      border-bottom-color: var(--fill-color);\n",
              "      border-left-color: var(--fill-color);\n",
              "    }\n",
              "    20% {\n",
              "      border-color: transparent;\n",
              "      border-left-color: var(--fill-color);\n",
              "      border-top-color: var(--fill-color);\n",
              "    }\n",
              "    30% {\n",
              "      border-color: transparent;\n",
              "      border-left-color: var(--fill-color);\n",
              "      border-top-color: var(--fill-color);\n",
              "      border-right-color: var(--fill-color);\n",
              "    }\n",
              "    40% {\n",
              "      border-color: transparent;\n",
              "      border-right-color: var(--fill-color);\n",
              "      border-top-color: var(--fill-color);\n",
              "    }\n",
              "    60% {\n",
              "      border-color: transparent;\n",
              "      border-right-color: var(--fill-color);\n",
              "    }\n",
              "    80% {\n",
              "      border-color: transparent;\n",
              "      border-right-color: var(--fill-color);\n",
              "      border-bottom-color: var(--fill-color);\n",
              "    }\n",
              "    90% {\n",
              "      border-color: transparent;\n",
              "      border-bottom-color: var(--fill-color);\n",
              "    }\n",
              "  }\n",
              "</style>\n",
              "\n",
              "  <script>\n",
              "    async function quickchart(key) {\n",
              "      const quickchartButtonEl =\n",
              "        document.querySelector('#' + key + ' button');\n",
              "      quickchartButtonEl.disabled = true;  // To prevent multiple clicks.\n",
              "      quickchartButtonEl.classList.add('colab-df-spinner');\n",
              "      try {\n",
              "        const charts = await google.colab.kernel.invokeFunction(\n",
              "            'suggestCharts', [key], {});\n",
              "      } catch (error) {\n",
              "        console.error('Error during call to suggestCharts:', error);\n",
              "      }\n",
              "      quickchartButtonEl.classList.remove('colab-df-spinner');\n",
              "      quickchartButtonEl.classList.add('colab-df-quickchart-complete');\n",
              "    }\n",
              "    (() => {\n",
              "      let quickchartButtonEl =\n",
              "        document.querySelector('#df-3d5cad45-16c2-4719-9b2b-3e8ccd198fc4 button');\n",
              "      quickchartButtonEl.style.display =\n",
              "        google.colab.kernel.accessAllowed ? 'block' : 'none';\n",
              "    })();\n",
              "  </script>\n",
              "</div>\n",
              "    </div>\n",
              "  </div>\n"
            ]
          },
          "metadata": {},
          "execution_count": 50
        }
      ]
    },
    {
      "cell_type": "code",
      "source": [
        "# Проверка на пропущенные значения (null)\n",
        "missing_values = data.isnull().sum()\n",
        "\n",
        "# Вывод информации о пропущенных значениях\n",
        "print(\"Количество пропущенных значений по каждой колонке:\")\n",
        "print(missing_values)"
      ],
      "metadata": {
        "colab": {
          "base_uri": "https://localhost:8080/"
        },
        "id": "4fJLOiDEhi7X",
        "outputId": "0f22f617-1924-4582-a49d-46d427988b8e"
      },
      "execution_count": null,
      "outputs": [
        {
          "output_type": "stream",
          "name": "stdout",
          "text": [
            "Количество пропущенных значений по каждой колонке:\n",
            "USER_ID         0\n",
            "VARIANT_NAME    0\n",
            "REVENUE         0\n",
            "dtype: int64\n"
          ]
        }
      ]
    },
    {
      "cell_type": "markdown",
      "source": [
        "Пропусков в данных нет, можем переходить к EDA."
      ],
      "metadata": {
        "id": "2mJjDOaKhkvf"
      }
    },
    {
      "cell_type": "markdown",
      "source": [
        "## Предварительный анализ"
      ],
      "metadata": {
        "id": "U0Ae3J9Ffa_T"
      }
    },
    {
      "cell_type": "code",
      "source": [
        "variant_counts = data['VARIANT_NAME'].value_counts()\n",
        "print(variant_counts)"
      ],
      "metadata": {
        "colab": {
          "base_uri": "https://localhost:8080/"
        },
        "id": "co7oYIZafO3k",
        "outputId": "c721c4f1-9b82-4e9d-d3ac-96cd9939f417"
      },
      "execution_count": null,
      "outputs": [
        {
          "output_type": "stream",
          "name": "stdout",
          "text": [
            "variant    5016\n",
            "control    4984\n",
            "Name: VARIANT_NAME, dtype: int64\n"
          ]
        }
      ]
    },
    {
      "cell_type": "markdown",
      "source": [
        "Как видим 2 группы разделены почти одинаково междуюзерами."
      ],
      "metadata": {
        "id": "dGGUDMdUhvQ2"
      }
    },
    {
      "cell_type": "code",
      "source": [
        "revenue_stats = data['REVENUE'].describe()\n",
        "print(revenue_stats)"
      ],
      "metadata": {
        "colab": {
          "base_uri": "https://localhost:8080/"
        },
        "id": "zvkyinz4gJDP",
        "outputId": "8e076a2b-65ef-46ab-9b70-f1c8c714f314"
      },
      "execution_count": null,
      "outputs": [
        {
          "output_type": "stream",
          "name": "stdout",
          "text": [
            "count    10000.000000\n",
            "mean         0.099447\n",
            "std          2.318529\n",
            "min          0.000000\n",
            "25%          0.000000\n",
            "50%          0.000000\n",
            "75%          0.000000\n",
            "max        196.010000\n",
            "Name: REVENUE, dtype: float64\n"
          ]
        }
      ]
    },
    {
      "cell_type": "code",
      "source": [
        "# Подсчет количества значений равных 0\n",
        "count_zeros = (data['REVENUE'] == 0).sum()\n",
        "\n",
        "# Подсчет количества ненулевых значений\n",
        "count_non_zeros = (data['REVENUE'] != 0).sum()\n",
        "\n",
        "print(f\"Количество значений, равных 0: {count_zeros}\")\n",
        "print(f\"Количество ненулевых значений: {count_non_zeros}\")"
      ],
      "metadata": {
        "colab": {
          "base_uri": "https://localhost:8080/"
        },
        "id": "zq186ntUggAJ",
        "outputId": "be831cf6-0769-456e-a698-f6a36b971f43"
      },
      "execution_count": null,
      "outputs": [
        {
          "output_type": "stream",
          "name": "stdout",
          "text": [
            "Количество значений, равных 0: 9848\n",
            "Количество ненулевых значений: 152\n"
          ]
        }
      ]
    },
    {
      "cell_type": "code",
      "source": [
        "# Фильтрация ненулевых значений\n",
        "non_zero_values = data[data['REVENUE'] != 0]\n",
        "\n",
        "# Сортировка значений\n",
        "sorted_values = non_zero_values['REVENUE'].sort_values()\n",
        "\n",
        "# Вывод статистики для отсортированных ненулевых значений\n",
        "statistics = sorted_values.describe()\n",
        "print(statistics)"
      ],
      "metadata": {
        "colab": {
          "base_uri": "https://localhost:8080/"
        },
        "id": "qxpLJuEEhNHV",
        "outputId": "43df47f8-06f3-4189-bd6f-e520f7c95dd9"
      },
      "execution_count": null,
      "outputs": [
        {
          "output_type": "stream",
          "name": "stdout",
          "text": [
            "count    152.000000\n",
            "mean       6.542566\n",
            "std       17.706752\n",
            "min        0.020000\n",
            "25%        1.250000\n",
            "50%        2.420000\n",
            "75%        4.607500\n",
            "max      196.010000\n",
            "Name: REVENUE, dtype: float64\n"
          ]
        }
      ]
    },
    {
      "cell_type": "markdown",
      "source": [
        "Очень низкое среднее значение, достаточно больое стандартное отклонение, и есть выборсы."
      ],
      "metadata": {
        "id": "2a-QJs2-h7pb"
      }
    },
    {
      "cell_type": "markdown",
      "source": [
        "## EDA"
      ],
      "metadata": {
        "id": "VJ2C5zi1iLeo"
      }
    },
    {
      "cell_type": "code",
      "source": [
        "data_variant = data[data['VARIANT_NAME'] == 'variant']\n",
        "data_control = data[data['VARIANT_NAME'] == 'control']\n",
        "\n",
        "plt.figure(figsize=(8, 6))\n",
        "plt.boxplot([data_variant['REVENUE'], data_control['REVENUE']], labels=['variant', 'control'])\n",
        "plt.title('Сравнение боксплотов для variant и control')\n",
        "\n",
        "plt.show()\n"
      ],
      "metadata": {
        "colab": {
          "base_uri": "https://localhost:8080/",
          "height": 545
        },
        "id": "wCZRDY4cjCh3",
        "outputId": "e049ab43-49e0-4b9f-b365-bb53f720f4a2"
      },
      "execution_count": null,
      "outputs": [
        {
          "output_type": "display_data",
          "data": {
            "text/plain": [
              "<Figure size 800x600 with 1 Axes>"
            ],
            "image/png": "[encoded data removed]"
          },
          "metadata": {}
        }
      ]
    },
    {
      "cell_type": "markdown",
      "source": [
        "Не особо информативно, посмотрим только на ненулевые значения."
      ],
      "metadata": {
        "id": "FFclba8CjayW"
      }
    },
    {
      "cell_type": "code",
      "source": [
        "data_variant = data[(data['VARIANT_NAME'] == 'variant') & (data['REVENUE'] > 0)]\n",
        "data_control = data[(data['VARIANT_NAME'] == 'control') & (data['REVENUE'] > 0)]\n",
        "\n",
        "plt.figure(figsize=(8, 6))\n",
        "plt.boxplot([data_variant['REVENUE'], data_control['REVENUE']], labels=['variant', 'control'])\n",
        "plt.title('Сравнение боксплотов для variant и control (ненулевые значения)')\n",
        "\n",
        "plt.show()"
      ],
      "metadata": {
        "colab": {
          "base_uri": "https://localhost:8080/",
          "height": 545
        },
        "id": "8BtmS6mwjRas",
        "outputId": "7ae214e3-2141-4e76-abdd-296c2a4793d5"
      },
      "execution_count": null,
      "outputs": [
        {
          "output_type": "display_data",
          "data": {
            "text/plain": [
              "<Figure size 800x600 with 1 Axes>"
            ],
            "image/png": "[encoded data removed]"
          },
          "metadata": {}
        }
      ]
    },
    {
      "cell_type": "markdown",
      "source": [
        "Уже лучше, но ещё обрежем выбросы."
      ],
      "metadata": {
        "id": "LnQHo2R0j30N"
      }
    },
    {
      "cell_type": "code",
      "source": [
        "data_variant = data[(data['VARIANT_NAME'] == 'variant') & (data['REVENUE'] > 0)]\n",
        "data_control = data[(data['VARIANT_NAME'] == 'control') & (data['REVENUE'] > 0)]\n",
        "\n",
        "plt.figure(figsize=(8, 6))\n",
        "plt.boxplot([data_variant['REVENUE'], data_control['REVENUE']], labels=['variant', 'control'], showfliers=False)\n",
        "plt.title('Сравнение боксплотов для variant и control (ненулевые значения без выбросов)')\n",
        "\n",
        "plt.show()"
      ],
      "metadata": {
        "colab": {
          "base_uri": "https://localhost:8080/",
          "height": 545
        },
        "id": "mbyCWRzCkCQA",
        "outputId": "66971eca-b174-4fa8-cc80-219740508003"
      },
      "execution_count": null,
      "outputs": [
        {
          "output_type": "display_data",
          "data": {
            "text/plain": [
              "<Figure size 800x600 with 1 Axes>"
            ],
            "image/png": "[encoded data removed]"
          },
          "metadata": {}
        }
      ]
    },
    {
      "cell_type": "markdown",
      "source": [
        "Уже намного лучше. Как видно по графике, средий доход немного выше в группе control. Также в ней длинее и доходней межквартильный размах и больше стандартное отклонение."
      ],
      "metadata": {
        "id": "b9fbNHV5kMgJ"
      }
    },
    {
      "cell_type": "code",
      "source": [
        "# Для проверки равенства средних значений (используем t-тест)\n",
        "t_stat, p_value = stats.ttest_ind(data_variant['REVENUE'], data_control['REVENUE'])\n",
        "alpha = 0.05  # Уровень значимости\n",
        "\n",
        "if p_value < alpha:\n",
        "    print(f'p-value: {p_value}, Отвергаем нулевую гипотезу. Средние значения различаются.')\n",
        "else:\n",
        "    print(f'p-value: {p_value}, Нет оснований отвергать нулевую гипотезу. Средние значения схожи.')"
      ],
      "metadata": {
        "colab": {
          "base_uri": "https://localhost:8080/"
        },
        "id": "_GgXdJlekrTP",
        "outputId": "5914e7c5-56fb-44c9-ce05-382c446d88fb"
      },
      "execution_count": null,
      "outputs": [
        {
          "output_type": "stream",
          "name": "stdout",
          "text": [
            "p-value: 0.27398955098678834, Нет оснований отвергать нулевую гипотезу. Средние значения схожи.\n"
          ]
        }
      ]
    },
    {
      "cell_type": "code",
      "source": [
        "# Для проверки равенства дисперсий (используем тест Бартлетта)\n",
        "bartlett_stat, bartlett_p = stats.bartlett(data_variant['REVENUE'], data_control['REVENUE'])\n",
        "\n",
        "alpha = 0.05  # Уровень значимости\n",
        "\n",
        "if bartlett_p < alpha:\n",
        "    print(f'p-value (Bartlett test): {bartlett_p}, Отвергаем нулевую гипотезу. Дисперсии различаются.')\n",
        "else:\n",
        "    print(f'p-value (Bartlett test): {bartlett_p}, Нет оснований отвергать нулевую гипотезу. Дисперсии схожи.')"
      ],
      "metadata": {
        "colab": {
          "base_uri": "https://localhost:8080/"
        },
        "id": "86nX1Q4ZlCNw",
        "outputId": "0efa8d69-a6df-4669-99ee-cc9378e45305"
      },
      "execution_count": null,
      "outputs": [
        {
          "output_type": "stream",
          "name": "stdout",
          "text": [
            "p-value (Bartlett test): 3.24578862604794e-11, Отвергаем нулевую гипотезу. Дисперсии различаются.\n"
          ]
        }
      ]
    },
    {
      "cell_type": "markdown",
      "source": [
        "С помощью статистических критериев подвтердили, что среднии почти равны, а дисперсии различны.\n",
        "\n",
        "Для исследования плотности распределения построим графики-виоланчели, которые являются чем-то вроде симбиоза боксплота и гистограммы."
      ],
      "metadata": {
        "id": "vkV8ijKBlcmE"
      }
    },
    {
      "cell_type": "code",
      "source": [
        "# Определяем IQR для variant и control\n",
        "Q1_variant = data_variant['REVENUE'].quantile(0.25)\n",
        "Q3_variant = data_variant['REVENUE'].quantile(0.75)\n",
        "IQR_variant = Q3_variant - Q1_variant\n",
        "\n",
        "Q1_control = data_control['REVENUE'].quantile(0.25)\n",
        "Q3_control = data_control['REVENUE'].quantile(0.75)\n",
        "IQR_control = Q3_control - Q1_control\n",
        "\n",
        "# Определяем верхний и нижний пределы для определения выбросов\n",
        "lower_bound_variant = Q1_variant - 1.5 * IQR_variant\n",
        "upper_bound_variant = Q3_variant + 1.5 * IQR_variant\n",
        "\n",
        "lower_bound_control = Q1_control - 1.5 * IQR_control\n",
        "upper_bound_control = Q3_control + 1.5 * IQR_control\n",
        "\n",
        "# Удаляем выбросы\n",
        "data_variant_no_outliers = data_variant[(data_variant['REVENUE'] >= lower_bound_variant) & (data_variant['REVENUE'] <= upper_bound_variant)]\n",
        "data_control_no_outliers = data_control[(data_control['REVENUE'] >= lower_bound_control) & (data_control['REVENUE'] <= upper_bound_control)]\n",
        "\n",
        "# Проводим тест Шапиро-Уилка и тест Д'Агостино и Пирсона для variant и control\n",
        "shapiro_variant = shapiro(data_variant_no_outliers['REVENUE'])\n",
        "shapiro_control = shapiro(data_control_no_outliers['REVENUE'])\n",
        "normaltest_variant = normaltest(data_variant_no_outliers['REVENUE'])\n",
        "normaltest_control = normaltest(data_control_no_outliers['REVENUE'])\n",
        "\n",
        "print(f'Shapiro-Wilk test for Variant (p-value): {shapiro_variant[1]}')\n",
        "print(f'Shapiro-Wilk test for Control (p-value): {shapiro_control[1]}')\n",
        "print(f'Pearson test for Variant (p-value): {normaltest_variant[1]}')\n",
        "print(f'Pearson test for Control (p-value): {normaltest_control[1]}')\n",
        "print()\n",
        "\n",
        "count_variant = data_variant_no_outliers.shape[0]\n",
        "count_control = data_control_no_outliers.shape[0]\n",
        "\n",
        "print(f'Количество значений Variant: {count_variant}')\n",
        "print(f'Количество значений Control: {count_control}')\n",
        "\n",
        "plt.figure(figsize=(10, 6))\n",
        "\n",
        "# График для VARIANT_NAME == 'variant'\n",
        "plt.subplot(121)\n",
        "sns.violinplot(x='REVENUE', data=data_variant_no_outliers, scale='width', cut=0)\n",
        "plt.title('Variant')\n",
        "if shapiro_variant[1] > 0.05 and normaltest_variant[1] > 0.05:\n",
        "    plt.text(0.1, 0.9, 'Normal', transform=plt.gca().transAxes, color='green')\n",
        "else:\n",
        "    plt.text(0.1, 0.9, 'Not Normal', transform=plt.gca().transAxes, color='red')\n",
        "\n",
        "# График для VARIANT_NAME == 'control'\n",
        "plt.subplot(122)\n",
        "sns.violinplot(x='REVENUE', data=data_control_no_outliers, scale='width', cut=0, color='C1')\n",
        "plt.title('Control')\n",
        "if shapiro_control[1] > 0.05 and normaltest_control[1] > 0.05:\n",
        "    plt.text(0.1, 0.9, 'Normal', transform=plt.gca().transAxes, color='green')\n",
        "else:\n",
        "    plt.text(0.1, 0.9, 'Not Normal', transform=plt.gca().transAxes, color='red')\n",
        "\n",
        "plt.show()\n"
      ],
      "metadata": {
        "colab": {
          "base_uri": "https://localhost:8080/",
          "height": 685
        },
        "id": "JPhBJojrpAZi",
        "outputId": "24844a4e-3bc0-4a74-c634-f0129e116aaa"
      },
      "execution_count": null,
      "outputs": [
        {
          "output_type": "stream",
          "name": "stdout",
          "text": [
            "Shapiro-Wilk test for Variant (p-value): 0.0013381581520661712\n",
            "Shapiro-Wilk test for Control (p-value): 1.3305504253935396e-08\n",
            "Pearson test for Variant (p-value): 0.012352372006203602\n",
            "Pearson test for Control (p-value): 1.1540163829478953e-06\n",
            "\n",
            "Количество значений Variant: 64\n",
            "Количество значений Control: 71\n"
          ]
        },
        {
          "output_type": "display_data",
          "data": {
            "text/plain": [
              "<Figure size 1000x600 with 2 Axes>"
            ],
            "image/png": "[encoded data removed]"
          },
          "metadata": {}
        }
      ]
    },
    {
      "cell_type": "code",
      "source": [
        "print(data_variant_no_outliers.mean())\n",
        "print(data_control_no_outliers.mean())"
      ],
      "metadata": {
        "colab": {
          "base_uri": "https://localhost:8080/"
        },
        "id": "4GFE9Sa9uSy-",
        "outputId": "59af438a-29ea-4f95-da78-961741678763"
      },
      "execution_count": null,
      "outputs": [
        {
          "output_type": "stream",
          "name": "stdout",
          "text": [
            "USER_ID    5273.468750\n",
            "REVENUE       2.302656\n",
            "dtype: float64\n",
            "USER_ID    4647.690141\n",
            "REVENUE       3.655352\n",
            "dtype: float64\n"
          ]
        },
        {
          "output_type": "stream",
          "name": "stderr",
          "text": [
            "<ipython-input-64-525bf78312e2>:1: FutureWarning: The default value of numeric_only in DataFrame.mean is deprecated. In a future version, it will default to False. In addition, specifying 'numeric_only=None' is deprecated. Select only valid columns or specify the value of numeric_only to silence this warning.\n",
            "  print(data_variant_no_outliers.mean())\n",
            "<ipython-input-64-525bf78312e2>:2: FutureWarning: The default value of numeric_only in DataFrame.mean is deprecated. In a future version, it will default to False. In addition, specifying 'numeric_only=None' is deprecated. Select only valid columns or specify the value of numeric_only to silence this warning.\n",
            "  print(data_control_no_outliers.mean())\n"
          ]
        }
      ]
    },
    {
      "cell_type": "markdown",
      "source": [
        "## Выводы"
      ],
      "metadata": {
        "id": "QiGdyu9spg1A"
      }
    },
    {
      "cell_type": "markdown",
      "source": [
        "Более лучшим являются результаты группы Control.\n",
        "\n",
        "* В ней выше конверсия.\n",
        "* В ней больше высокодоходных клиентов, причём значительно.\n",
        "\n",
        "Совет: желательно ещё продалжать эксперимент или увеличить мощность тестовых групп, чтобы медианное значение в группе Control стало больше для большего различия с группой Variant.\n",
        "\n",
        "Если результаты подвердятся ещё лучше, то вывести в продакшен для всех юзеров изменения, которые были сделаны в группе Control."
      ],
      "metadata": {
        "id": "JlezFtHrpi-q"
      }
    }
  ]
}